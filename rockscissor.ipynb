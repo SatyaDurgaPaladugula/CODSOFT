{
  "nbformat": 4,
  "nbformat_minor": 0,
  "metadata": {
    "colab": {
      "provenance": [],
      "authorship_tag": "ABX9TyMATR+SHDGO+C3VIwiwJcPc",
      "include_colab_link": true
    },
    "kernelspec": {
      "name": "python3",
      "display_name": "Python 3"
    },
    "language_info": {
      "name": "python"
    }
  },
  "cells": [
    {
      "cell_type": "markdown",
      "metadata": {
        "id": "view-in-github",
        "colab_type": "text"
      },
      "source": [
        "<a href=\"https://colab.research.google.com/github/SatyaDurgaPaladugula/CODSOFT/blob/main/rockscissor.ipynb\" target=\"_parent\"><img src=\"https://colab.research.google.com/assets/colab-badge.svg\" alt=\"Open In Colab\"/></a>"
      ]
    },
    {
      "cell_type": "code",
      "source": [
        "import random\n",
        "\n",
        "choices = [\"rock\", \"paper\", \"scissors\"]\n",
        "player_score = 0\n",
        "computer_score = 0\n",
        "\n",
        "def determine_winner(player_choice, computer_choice):\n",
        "    global player_score, computer_score\n",
        "    if player_choice == computer_choice:\n",
        "        return \"It's a tie!\", 0, 0\n",
        "    elif (player_choice == 'rock' and computer_choice == 'scissors') or \\\n",
        "         (player_choice == 'paper' and computer_choice == 'rock') or \\\n",
        "         (player_choice == 'scissors' and computer_choice == 'paper'):\n",
        "        player_score += 1\n",
        "        return \"You win!\", player_score, computer_score\n",
        "    else:\n",
        "        computer_score += 1\n",
        "        return \"You lose!\", player_score, computer_score\n",
        "\n",
        "def display_choices_and_result(player_choice, computer_choice, result):\n",
        "    print(f\"Your choice: {player_choice}\")\n",
        "    print(f\"Computer's choice: {computer_choice}\")\n",
        "    print(result)\n",
        "\n",
        "def display_scores():\n",
        "    print(f\"Player: {player_score}\\tComputer: {computer_score}\")\n",
        "\n",
        "def main():\n",
        "    global player_score, computer_score\n",
        "    print(\"Welcome to Rock-Paper-Scissors Game!\")\n",
        "    while True:\n",
        "        print(\"\\nAvailable choices: rock, paper, scissors\")\n",
        "        player_choice = input(\"Enter your choice or 'exit' to quit the game: \").lower()\n",
        "        if player_choice == 'exit':\n",
        "            print(\"Final scores:\")\n",
        "            display_scores()\n",
        "            if player_score > computer_score:\n",
        "                print(\"Congratulations! You won the game.\")\n",
        "            elif player_score < computer_score:\n",
        "                print(\"You lost the game. Better luck next time!\")\n",
        "            else:\n",
        "                print(\"It's a tie game.\")\n",
        "            break\n",
        "        elif player_choice not in choices:\n",
        "            print(\"Invalid choice. Please try again.\")\n",
        "            continue\n",
        "\n",
        "        computer_choice = random.choice(choices)\n",
        "        result, player_score, computer_score = determine_winner(player_choice, computer_choice)\n",
        "        display_choices_and_result(player_choice, computer_choice, result)\n",
        "        display_scores()\n",
        "\n",
        "if __name__ == \"__main__\":\n",
        "    main()\n"
      ],
      "metadata": {
        "colab": {
          "base_uri": "https://localhost:8080/"
        },
        "id": "pgpU25GP0kTy",
        "outputId": "ee9b87ae-aa34-487d-ff11-cd278f9093fd"
      },
      "execution_count": null,
      "outputs": [
        {
          "output_type": "stream",
          "name": "stdout",
          "text": [
            "Welcome to Rock-Paper-Scissors Game!\n",
            "\n",
            "Available choices: rock, paper, scissors\n",
            "Enter your choice or 'exit' to quit the game: rock\n",
            "Your choice: rock\n",
            "Computer's choice: rock\n",
            "It's a tie!\n",
            "Player: 0\tComputer: 0\n",
            "\n",
            "Available choices: rock, paper, scissors\n",
            "Enter your choice or 'exit' to quit the game: paper\n",
            "Your choice: paper\n",
            "Computer's choice: scissors\n",
            "You lose!\n",
            "Player: 0\tComputer: 1\n",
            "\n",
            "Available choices: rock, paper, scissors\n",
            "Enter your choice or 'exit' to quit the game: exit\n",
            "Final scores:\n",
            "Player: 0\tComputer: 1\n",
            "You lost the game. Better luck next time!\n"
          ]
        }
      ]
    }
  ]
}