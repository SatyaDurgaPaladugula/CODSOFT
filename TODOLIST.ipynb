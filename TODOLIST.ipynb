{
  "nbformat": 4,
  "nbformat_minor": 0,
  "metadata": {
    "colab": {
      "provenance": [],
      "authorship_tag": "ABX9TyM0m4ld5maGJI+lJvJcbqWF",
      "include_colab_link": true
    },
    "kernelspec": {
      "name": "python3",
      "display_name": "Python 3"
    },
    "language_info": {
      "name": "python"
    }
  },
  "cells": [
    {
      "cell_type": "markdown",
      "metadata": {
        "id": "view-in-github",
        "colab_type": "text"
      },
      "source": [
        "<a href=\"https://colab.research.google.com/github/SatyaDurgaPaladugula/CODSOFT/blob/main/TODOLIST.ipynb\" target=\"_parent\"><img src=\"https://colab.research.google.com/assets/colab-badge.svg\" alt=\"Open In Colab\"/></a>"
      ]
    },
    {
      "cell_type": "code",
      "execution_count": null,
      "metadata": {
        "colab": {
          "base_uri": "https://localhost:8080/"
        },
        "id": "B3A_q-Rhu8Ul",
        "outputId": "fbb485a5-e72c-464e-8e88-99774a5a8b5f"
      },
      "outputs": [
        {
          "output_type": "stream",
          "name": "stdout",
          "text": [
            "Simple To-Do List Program\n",
            "\n",
            "1. Add Task\n",
            "2. View Tasks\n",
            "3. Complete Task\n",
            "4. Delete Task\n",
            "5. Exit\n",
            "Enter your choice: 1\n",
            "Enter task: studying\n",
            "Task added successfully.\n",
            "\n",
            "1. Add Task\n",
            "2. View Tasks\n",
            "3. Complete Task\n",
            "4. Delete Task\n",
            "5. Exit\n",
            "Enter your choice: 2\n",
            "To-Do List:\n",
            "1. studying\n",
            "\n",
            "1. Add Task\n",
            "2. View Tasks\n",
            "3. Complete Task\n",
            "4. Delete Task\n",
            "5. Exit\n",
            "Enter your choice: 3\n",
            "Enter the index of the task to mark as completed: 1\n",
            "Completed task: studying\n",
            "\n",
            "1. Add Task\n",
            "2. View Tasks\n",
            "3. Complete Task\n",
            "4. Delete Task\n",
            "5. Exit\n",
            "Enter your choice: 5\n",
            "Exiting the program.\n"
          ]
        }
      ],
      "source": [
        "#to do list\n",
        "\n",
        "tasks = []\n",
        "\n",
        "def add_task(task):\n",
        "    tasks.append(task)\n",
        "    print(\"Task added successfully.\")\n",
        "\n",
        "def view_tasks():\n",
        "    if len(tasks) == 0:\n",
        "        print(\"No tasks in the to-do list.\")\n",
        "    else:\n",
        "        print(\"To-Do List:\")\n",
        "        for index, task in enumerate(tasks):\n",
        "            print(f\"{index + 1}. {task}\")\n",
        "\n",
        "def complete_task(task_index):\n",
        "    if 0 < task_index <= len(tasks):\n",
        "        completed_task = tasks.pop(task_index - 1)\n",
        "        print(f\"Completed task: {completed_task}\")\n",
        "    else:\n",
        "        print(\"Invalid task index.\")\n",
        "\n",
        "def delete_task(task_index):\n",
        "    if 0 < task_index <= len(tasks):\n",
        "        deleted_task = tasks.pop(task_index - 1)\n",
        "        print(f\"Deleted task: {deleted_task}\")\n",
        "    else:\n",
        "        print(\"Invalid task index.\")\n",
        "\n",
        "print(\"Simple To-Do List Program\")\n",
        "while True:\n",
        "    print(\"\\n1. Add Task\")\n",
        "    print(\"2. View Tasks\")\n",
        "    print(\"3. Complete Task\")\n",
        "    print(\"4. Delete Task\")\n",
        "    print(\"5. Exit\")\n",
        "\n",
        "    choice = input(\"Enter your choice: \")\n",
        "\n",
        "    if choice == '1':\n",
        "        task = input(\"Enter task: \")\n",
        "        add_task(task)\n",
        "    elif choice == '2':\n",
        "        view_tasks()\n",
        "    elif choice == '3':\n",
        "        task_index = int(input(\"Enter the index of the task to mark as completed: \"))\n",
        "        complete_task(task_index)\n",
        "    elif choice == '4':\n",
        "        task_index = int(input(\"Enter the index of the task to delete: \"))\n",
        "        delete_task(task_index)\n",
        "    elif choice == '5':\n",
        "        print(\"Exiting the program.\")\n",
        "        break\n",
        "    else:\n",
        "        print(\"Invalid choice. Please try again.\")\n"
      ]
    }
  ]
}