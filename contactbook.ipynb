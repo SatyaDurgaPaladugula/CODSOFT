{
  "nbformat": 4,
  "nbformat_minor": 0,
  "metadata": {
    "colab": {
      "provenance": [],
      "authorship_tag": "ABX9TyO9ot4hArqKgrabMKAwBstu",
      "include_colab_link": true
    },
    "kernelspec": {
      "name": "python3",
      "display_name": "Python 3"
    },
    "language_info": {
      "name": "python"
    }
  },
  "cells": [
    {
      "cell_type": "markdown",
      "metadata": {
        "id": "view-in-github",
        "colab_type": "text"
      },
      "source": [
        "<a href=\"https://colab.research.google.com/github/SatyaDurgaPaladugula/CODSOFT/blob/main/contactbook.ipynb\" target=\"_parent\"><img src=\"https://colab.research.google.com/assets/colab-badge.svg\" alt=\"Open In Colab\"/></a>"
      ]
    },
    {
      "cell_type": "code",
      "execution_count": 1,
      "metadata": {
        "colab": {
          "base_uri": "https://localhost:8080/"
        },
        "id": "fosbUYP-vu6L",
        "outputId": "0b616182-d6c3-4fd4-f2a8-21baa116a759"
      },
      "outputs": [
        {
          "output_type": "stream",
          "name": "stdout",
          "text": [
            "Simple Contact Book Program\n",
            "\n",
            "1. Add Contact\n",
            "2. View Contacts\n",
            "3. Search Contact\n",
            "4. Delete Contact\n",
            "5. Exit\n",
            "Enter your choice: 1\n",
            "Enter name: satya\n",
            "Enter number: 8309048128\n",
            "Contact added successfully.\n",
            "\n",
            "1. Add Contact\n",
            "2. View Contacts\n",
            "3. Search Contact\n",
            "4. Delete Contact\n",
            "5. Exit\n",
            "Enter your choice: 5\n",
            "Exiting the program.\n"
          ]
        }
      ],
      "source": [
        "# Simple Contact Book Program\n",
        "\n",
        "contacts = {}\n",
        "\n",
        "def add_contact(name, number):\n",
        "    contacts[name] = number\n",
        "    print(\"Contact added successfully.\")\n",
        "\n",
        "def view_contacts():\n",
        "    if not contacts:\n",
        "        print(\"Contact list is empty.\")\n",
        "    else:\n",
        "        print(\"Contact List:\")\n",
        "        for name, number in contacts.items():\n",
        "            print(f\"Name: {name}, Number: {number}\")\n",
        "\n",
        "def search_contact(name):\n",
        "    if name in contacts:\n",
        "        print(f\"Name: {name}, Number: {contacts[name]}\")\n",
        "    else:\n",
        "        print(\"Contact not found.\")\n",
        "\n",
        "def delete_contact(name):\n",
        "    if name in contacts:\n",
        "        del contacts[name]\n",
        "        print(\"Contact deleted successfully.\")\n",
        "    else:\n",
        "        print(\"Contact not found.\")\n",
        "\n",
        "print(\"Simple Contact Book Program\")\n",
        "while True:\n",
        "    print(\"\\n1. Add Contact\")\n",
        "    print(\"2. View Contacts\")\n",
        "    print(\"3. Search Contact\")\n",
        "    print(\"4. Delete Contact\")\n",
        "    print(\"5. Exit\")\n",
        "\n",
        "    choice = input(\"Enter your choice: \")\n",
        "\n",
        "    if choice == '1':\n",
        "        name = input(\"Enter name: \")\n",
        "        number = input(\"Enter number: \")\n",
        "        add_contact(name, number)\n",
        "    elif choice == '2':\n",
        "        view_contacts()\n",
        "    elif choice == '3':\n",
        "        name = input(\"Enter name to search: \")\n",
        "        search_contact(name)\n",
        "    elif choice == '4':\n",
        "        name = input(\"Enter name to delete: \")\n",
        "        delete_contact(name)\n",
        "    elif choice == '5':\n",
        "        print(\"Exiting the program.\")\n",
        "        break\n",
        "    else:\n",
        "        print(\"Invalid choice. Please try again.\")\n"
      ]
    }
  ]
}